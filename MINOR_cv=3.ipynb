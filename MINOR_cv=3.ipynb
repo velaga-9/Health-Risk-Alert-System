{
  "cells": [
    {
      "cell_type": "markdown",
      "metadata": {
        "id": "view-in-github",
        "colab_type": "text"
      },
      "source": [
        "<a href=\"https://colab.research.google.com/github/velaga-9/Health-Risk-Alert-System/blob/main/MINOR_cv%3D3.ipynb\" target=\"_parent\"><img src=\"https://colab.research.google.com/assets/colab-badge.svg\" alt=\"Open In Colab\"/></a>"
      ]
    },
    {
      "cell_type": "markdown",
      "source": [
        "### **Data Exploration**"
      ],
      "metadata": {
        "id": "uZtYxpsirpUG"
      }
    },
    {
      "cell_type": "code",
      "source": [
        "from google.colab import drive\n",
        "drive.mount('/content/drive')"
      ],
      "metadata": {
        "colab": {
          "base_uri": "https://localhost:8080/"
        },
        "id": "cb0cF1tdGxIT",
        "outputId": "509e2c9b-f6d0-46f0-98fe-131cfd62028b"
      },
      "execution_count": null,
      "outputs": [
        {
          "output_type": "stream",
          "name": "stdout",
          "text": [
            "Mounted at /content/drive\n"
          ]
        }
      ]
    },
    {
      "cell_type": "code",
      "execution_count": null,
      "metadata": {
        "id": "1C-3pkGzmwgG"
      },
      "outputs": [],
      "source": [
        "import pandas as pd\n",
        "data=pd.read_csv('/content/drive/MyDrive/data.csv',encoding='utf-8-sig')"
      ]
    },
    {
      "cell_type": "code",
      "execution_count": null,
      "metadata": {
        "colab": {
          "base_uri": "https://localhost:8080/"
        },
        "id": "O0-uZxJQNKrN",
        "outputId": "0ae4bf2e-0e25-4952-d340-4e61a0b94c0f"
      },
      "outputs": [
        {
          "output_type": "stream",
          "name": "stdout",
          "text": [
            "<class 'pandas.core.frame.DataFrame'>\n",
            "RangeIndex: 22269 entries, 0 to 22268\n",
            "Data columns (total 6 columns):\n",
            " #   Column     Non-Null Count  Dtype\n",
            "---  ------     --------------  -----\n",
            " 0   Age        22269 non-null  int64\n",
            " 1   HeartBeat  22269 non-null  int64\n",
            " 2   Systolic   22269 non-null  int64\n",
            " 3   Diastolic  22269 non-null  int64\n",
            " 4   Sugar      22269 non-null  int64\n",
            " 5   Alert      22269 non-null  int64\n",
            "dtypes: int64(6)\n",
            "memory usage: 1.0 MB\n"
          ]
        }
      ],
      "source": [
        "data.info()"
      ]
    },
    {
      "cell_type": "code",
      "execution_count": null,
      "metadata": {
        "colab": {
          "base_uri": "https://localhost:8080/"
        },
        "id": "1u_RZcQjNAM7",
        "outputId": "5ed12f6d-72a1-4af1-a586-9c7252aec21c"
      },
      "outputs": [
        {
          "output_type": "execute_result",
          "data": {
            "text/plain": [
              "Age          0\n",
              "HeartBeat    0\n",
              "Systolic     0\n",
              "Diastolic    0\n",
              "Sugar        0\n",
              "Alert        0\n",
              "dtype: int64"
            ]
          },
          "metadata": {},
          "execution_count": 4
        }
      ],
      "source": [
        "#To check if any null values r presnt\n",
        "data.isnull().sum()"
      ]
    },
    {
      "cell_type": "code",
      "execution_count": null,
      "metadata": {
        "colab": {
          "base_uri": "https://localhost:8080/",
          "height": 237
        },
        "id": "D97lvIqWNhcx",
        "outputId": "8b43d5af-09e9-44c2-c6c5-bf2716729aae"
      },
      "outputs": [
        {
          "output_type": "execute_result",
          "data": {
            "text/plain": [
              "                Age  HeartBeat  Systolic  Diastolic     Sugar     Alert\n",
              "Age        1.000000   0.026617  0.000228   0.000196  0.000264  0.000966\n",
              "HeartBeat  0.026617   1.000000  0.053563   0.025512  0.006078  0.109718\n",
              "Systolic   0.000228   0.053563  1.000000   0.918053  0.015303  0.302769\n",
              "Diastolic  0.000196   0.025512  0.918053   1.000000  0.012300  0.291115\n",
              "Sugar      0.000264   0.006078  0.015303   0.012300  1.000000  0.302975\n",
              "Alert      0.000966   0.109718  0.302769   0.291115  0.302975  1.000000"
            ],
            "text/html": [
              "\n",
              "  <div id=\"df-369d03f2-574a-47fe-9ee4-d90c4d3ded34\">\n",
              "    <div class=\"colab-df-container\">\n",
              "      <div>\n",
              "<style scoped>\n",
              "    .dataframe tbody tr th:only-of-type {\n",
              "        vertical-align: middle;\n",
              "    }\n",
              "\n",
              "    .dataframe tbody tr th {\n",
              "        vertical-align: top;\n",
              "    }\n",
              "\n",
              "    .dataframe thead th {\n",
              "        text-align: right;\n",
              "    }\n",
              "</style>\n",
              "<table border=\"1\" class=\"dataframe\">\n",
              "  <thead>\n",
              "    <tr style=\"text-align: right;\">\n",
              "      <th></th>\n",
              "      <th>Age</th>\n",
              "      <th>HeartBeat</th>\n",
              "      <th>Systolic</th>\n",
              "      <th>Diastolic</th>\n",
              "      <th>Sugar</th>\n",
              "      <th>Alert</th>\n",
              "    </tr>\n",
              "  </thead>\n",
              "  <tbody>\n",
              "    <tr>\n",
              "      <th>Age</th>\n",
              "      <td>1.000000</td>\n",
              "      <td>0.026617</td>\n",
              "      <td>0.000228</td>\n",
              "      <td>0.000196</td>\n",
              "      <td>0.000264</td>\n",
              "      <td>0.000966</td>\n",
              "    </tr>\n",
              "    <tr>\n",
              "      <th>HeartBeat</th>\n",
              "      <td>0.026617</td>\n",
              "      <td>1.000000</td>\n",
              "      <td>0.053563</td>\n",
              "      <td>0.025512</td>\n",
              "      <td>0.006078</td>\n",
              "      <td>0.109718</td>\n",
              "    </tr>\n",
              "    <tr>\n",
              "      <th>Systolic</th>\n",
              "      <td>0.000228</td>\n",
              "      <td>0.053563</td>\n",
              "      <td>1.000000</td>\n",
              "      <td>0.918053</td>\n",
              "      <td>0.015303</td>\n",
              "      <td>0.302769</td>\n",
              "    </tr>\n",
              "    <tr>\n",
              "      <th>Diastolic</th>\n",
              "      <td>0.000196</td>\n",
              "      <td>0.025512</td>\n",
              "      <td>0.918053</td>\n",
              "      <td>1.000000</td>\n",
              "      <td>0.012300</td>\n",
              "      <td>0.291115</td>\n",
              "    </tr>\n",
              "    <tr>\n",
              "      <th>Sugar</th>\n",
              "      <td>0.000264</td>\n",
              "      <td>0.006078</td>\n",
              "      <td>0.015303</td>\n",
              "      <td>0.012300</td>\n",
              "      <td>1.000000</td>\n",
              "      <td>0.302975</td>\n",
              "    </tr>\n",
              "    <tr>\n",
              "      <th>Alert</th>\n",
              "      <td>0.000966</td>\n",
              "      <td>0.109718</td>\n",
              "      <td>0.302769</td>\n",
              "      <td>0.291115</td>\n",
              "      <td>0.302975</td>\n",
              "      <td>1.000000</td>\n",
              "    </tr>\n",
              "  </tbody>\n",
              "</table>\n",
              "</div>\n",
              "      <button class=\"colab-df-convert\" onclick=\"convertToInteractive('df-369d03f2-574a-47fe-9ee4-d90c4d3ded34')\"\n",
              "              title=\"Convert this dataframe to an interactive table.\"\n",
              "              style=\"display:none;\">\n",
              "        \n",
              "  <svg xmlns=\"http://www.w3.org/2000/svg\" height=\"24px\"viewBox=\"0 0 24 24\"\n",
              "       width=\"24px\">\n",
              "    <path d=\"M0 0h24v24H0V0z\" fill=\"none\"/>\n",
              "    <path d=\"M18.56 5.44l.94 2.06.94-2.06 2.06-.94-2.06-.94-.94-2.06-.94 2.06-2.06.94zm-11 1L8.5 8.5l.94-2.06 2.06-.94-2.06-.94L8.5 2.5l-.94 2.06-2.06.94zm10 10l.94 2.06.94-2.06 2.06-.94-2.06-.94-.94-2.06-.94 2.06-2.06.94z\"/><path d=\"M17.41 7.96l-1.37-1.37c-.4-.4-.92-.59-1.43-.59-.52 0-1.04.2-1.43.59L10.3 9.45l-7.72 7.72c-.78.78-.78 2.05 0 2.83L4 21.41c.39.39.9.59 1.41.59.51 0 1.02-.2 1.41-.59l7.78-7.78 2.81-2.81c.8-.78.8-2.07 0-2.86zM5.41 20L4 18.59l7.72-7.72 1.47 1.35L5.41 20z\"/>\n",
              "  </svg>\n",
              "      </button>\n",
              "      \n",
              "  <style>\n",
              "    .colab-df-container {\n",
              "      display:flex;\n",
              "      flex-wrap:wrap;\n",
              "      gap: 12px;\n",
              "    }\n",
              "\n",
              "    .colab-df-convert {\n",
              "      background-color: #E8F0FE;\n",
              "      border: none;\n",
              "      border-radius: 50%;\n",
              "      cursor: pointer;\n",
              "      display: none;\n",
              "      fill: #1967D2;\n",
              "      height: 32px;\n",
              "      padding: 0 0 0 0;\n",
              "      width: 32px;\n",
              "    }\n",
              "\n",
              "    .colab-df-convert:hover {\n",
              "      background-color: #E2EBFA;\n",
              "      box-shadow: 0px 1px 2px rgba(60, 64, 67, 0.3), 0px 1px 3px 1px rgba(60, 64, 67, 0.15);\n",
              "      fill: #174EA6;\n",
              "    }\n",
              "\n",
              "    [theme=dark] .colab-df-convert {\n",
              "      background-color: #3B4455;\n",
              "      fill: #D2E3FC;\n",
              "    }\n",
              "\n",
              "    [theme=dark] .colab-df-convert:hover {\n",
              "      background-color: #434B5C;\n",
              "      box-shadow: 0px 1px 3px 1px rgba(0, 0, 0, 0.15);\n",
              "      filter: drop-shadow(0px 1px 2px rgba(0, 0, 0, 0.3));\n",
              "      fill: #FFFFFF;\n",
              "    }\n",
              "  </style>\n",
              "\n",
              "      <script>\n",
              "        const buttonEl =\n",
              "          document.querySelector('#df-369d03f2-574a-47fe-9ee4-d90c4d3ded34 button.colab-df-convert');\n",
              "        buttonEl.style.display =\n",
              "          google.colab.kernel.accessAllowed ? 'block' : 'none';\n",
              "\n",
              "        async function convertToInteractive(key) {\n",
              "          const element = document.querySelector('#df-369d03f2-574a-47fe-9ee4-d90c4d3ded34');\n",
              "          const dataTable =\n",
              "            await google.colab.kernel.invokeFunction('convertToInteractive',\n",
              "                                                     [key], {});\n",
              "          if (!dataTable) return;\n",
              "\n",
              "          const docLinkHtml = 'Like what you see? Visit the ' +\n",
              "            '<a target=\"_blank\" href=https://colab.research.google.com/notebooks/data_table.ipynb>data table notebook</a>'\n",
              "            + ' to learn more about interactive tables.';\n",
              "          element.innerHTML = '';\n",
              "          dataTable['output_type'] = 'display_data';\n",
              "          await google.colab.output.renderOutput(dataTable, element);\n",
              "          const docLink = document.createElement('div');\n",
              "          docLink.innerHTML = docLinkHtml;\n",
              "          element.appendChild(docLink);\n",
              "        }\n",
              "      </script>\n",
              "    </div>\n",
              "  </div>\n",
              "  "
            ]
          },
          "metadata": {},
          "execution_count": 5
        }
      ],
      "source": [
        "#Correlation Matrixx\n",
        "data.corr()"
      ]
    },
    {
      "cell_type": "code",
      "execution_count": null,
      "metadata": {
        "colab": {
          "base_uri": "https://localhost:8080/"
        },
        "id": "OcO95EOCnw42",
        "outputId": "6156b314-1194-42b6-8ad3-f38802bf9b17"
      },
      "outputs": [
        {
          "output_type": "execute_result",
          "data": {
            "text/plain": [
              "['Age', 'HeartBeat', 'Systolic', 'Diastolic', 'Sugar', 'Alert']"
            ]
          },
          "metadata": {},
          "execution_count": 6
        }
      ],
      "source": [
        "data.columns.values.tolist()"
      ]
    },
    {
      "cell_type": "code",
      "execution_count": null,
      "metadata": {
        "colab": {
          "base_uri": "https://localhost:8080/",
          "height": 206
        },
        "id": "KHAm8-dP68Bv",
        "outputId": "7ec24da3-5873-421a-8622-b1a13ef56f6a"
      },
      "outputs": [
        {
          "output_type": "execute_result",
          "data": {
            "text/plain": [
              "   Age  HeartBeat  Systolic  Diastolic  Sugar  Alert\n",
              "0   18         49        90         60     80      0\n",
              "1   18         49        90         60    100      0\n",
              "2   18         49        90         60    120      0\n",
              "3   18         49        90         60    140      0\n",
              "4   18         49        90         60    160      0"
            ],
            "text/html": [
              "\n",
              "  <div id=\"df-58568d17-0ace-479d-9ac2-d6b51a9f4043\">\n",
              "    <div class=\"colab-df-container\">\n",
              "      <div>\n",
              "<style scoped>\n",
              "    .dataframe tbody tr th:only-of-type {\n",
              "        vertical-align: middle;\n",
              "    }\n",
              "\n",
              "    .dataframe tbody tr th {\n",
              "        vertical-align: top;\n",
              "    }\n",
              "\n",
              "    .dataframe thead th {\n",
              "        text-align: right;\n",
              "    }\n",
              "</style>\n",
              "<table border=\"1\" class=\"dataframe\">\n",
              "  <thead>\n",
              "    <tr style=\"text-align: right;\">\n",
              "      <th></th>\n",
              "      <th>Age</th>\n",
              "      <th>HeartBeat</th>\n",
              "      <th>Systolic</th>\n",
              "      <th>Diastolic</th>\n",
              "      <th>Sugar</th>\n",
              "      <th>Alert</th>\n",
              "    </tr>\n",
              "  </thead>\n",
              "  <tbody>\n",
              "    <tr>\n",
              "      <th>0</th>\n",
              "      <td>18</td>\n",
              "      <td>49</td>\n",
              "      <td>90</td>\n",
              "      <td>60</td>\n",
              "      <td>80</td>\n",
              "      <td>0</td>\n",
              "    </tr>\n",
              "    <tr>\n",
              "      <th>1</th>\n",
              "      <td>18</td>\n",
              "      <td>49</td>\n",
              "      <td>90</td>\n",
              "      <td>60</td>\n",
              "      <td>100</td>\n",
              "      <td>0</td>\n",
              "    </tr>\n",
              "    <tr>\n",
              "      <th>2</th>\n",
              "      <td>18</td>\n",
              "      <td>49</td>\n",
              "      <td>90</td>\n",
              "      <td>60</td>\n",
              "      <td>120</td>\n",
              "      <td>0</td>\n",
              "    </tr>\n",
              "    <tr>\n",
              "      <th>3</th>\n",
              "      <td>18</td>\n",
              "      <td>49</td>\n",
              "      <td>90</td>\n",
              "      <td>60</td>\n",
              "      <td>140</td>\n",
              "      <td>0</td>\n",
              "    </tr>\n",
              "    <tr>\n",
              "      <th>4</th>\n",
              "      <td>18</td>\n",
              "      <td>49</td>\n",
              "      <td>90</td>\n",
              "      <td>60</td>\n",
              "      <td>160</td>\n",
              "      <td>0</td>\n",
              "    </tr>\n",
              "  </tbody>\n",
              "</table>\n",
              "</div>\n",
              "      <button class=\"colab-df-convert\" onclick=\"convertToInteractive('df-58568d17-0ace-479d-9ac2-d6b51a9f4043')\"\n",
              "              title=\"Convert this dataframe to an interactive table.\"\n",
              "              style=\"display:none;\">\n",
              "        \n",
              "  <svg xmlns=\"http://www.w3.org/2000/svg\" height=\"24px\"viewBox=\"0 0 24 24\"\n",
              "       width=\"24px\">\n",
              "    <path d=\"M0 0h24v24H0V0z\" fill=\"none\"/>\n",
              "    <path d=\"M18.56 5.44l.94 2.06.94-2.06 2.06-.94-2.06-.94-.94-2.06-.94 2.06-2.06.94zm-11 1L8.5 8.5l.94-2.06 2.06-.94-2.06-.94L8.5 2.5l-.94 2.06-2.06.94zm10 10l.94 2.06.94-2.06 2.06-.94-2.06-.94-.94-2.06-.94 2.06-2.06.94z\"/><path d=\"M17.41 7.96l-1.37-1.37c-.4-.4-.92-.59-1.43-.59-.52 0-1.04.2-1.43.59L10.3 9.45l-7.72 7.72c-.78.78-.78 2.05 0 2.83L4 21.41c.39.39.9.59 1.41.59.51 0 1.02-.2 1.41-.59l7.78-7.78 2.81-2.81c.8-.78.8-2.07 0-2.86zM5.41 20L4 18.59l7.72-7.72 1.47 1.35L5.41 20z\"/>\n",
              "  </svg>\n",
              "      </button>\n",
              "      \n",
              "  <style>\n",
              "    .colab-df-container {\n",
              "      display:flex;\n",
              "      flex-wrap:wrap;\n",
              "      gap: 12px;\n",
              "    }\n",
              "\n",
              "    .colab-df-convert {\n",
              "      background-color: #E8F0FE;\n",
              "      border: none;\n",
              "      border-radius: 50%;\n",
              "      cursor: pointer;\n",
              "      display: none;\n",
              "      fill: #1967D2;\n",
              "      height: 32px;\n",
              "      padding: 0 0 0 0;\n",
              "      width: 32px;\n",
              "    }\n",
              "\n",
              "    .colab-df-convert:hover {\n",
              "      background-color: #E2EBFA;\n",
              "      box-shadow: 0px 1px 2px rgba(60, 64, 67, 0.3), 0px 1px 3px 1px rgba(60, 64, 67, 0.15);\n",
              "      fill: #174EA6;\n",
              "    }\n",
              "\n",
              "    [theme=dark] .colab-df-convert {\n",
              "      background-color: #3B4455;\n",
              "      fill: #D2E3FC;\n",
              "    }\n",
              "\n",
              "    [theme=dark] .colab-df-convert:hover {\n",
              "      background-color: #434B5C;\n",
              "      box-shadow: 0px 1px 3px 1px rgba(0, 0, 0, 0.15);\n",
              "      filter: drop-shadow(0px 1px 2px rgba(0, 0, 0, 0.3));\n",
              "      fill: #FFFFFF;\n",
              "    }\n",
              "  </style>\n",
              "\n",
              "      <script>\n",
              "        const buttonEl =\n",
              "          document.querySelector('#df-58568d17-0ace-479d-9ac2-d6b51a9f4043 button.colab-df-convert');\n",
              "        buttonEl.style.display =\n",
              "          google.colab.kernel.accessAllowed ? 'block' : 'none';\n",
              "\n",
              "        async function convertToInteractive(key) {\n",
              "          const element = document.querySelector('#df-58568d17-0ace-479d-9ac2-d6b51a9f4043');\n",
              "          const dataTable =\n",
              "            await google.colab.kernel.invokeFunction('convertToInteractive',\n",
              "                                                     [key], {});\n",
              "          if (!dataTable) return;\n",
              "\n",
              "          const docLinkHtml = 'Like what you see? Visit the ' +\n",
              "            '<a target=\"_blank\" href=https://colab.research.google.com/notebooks/data_table.ipynb>data table notebook</a>'\n",
              "            + ' to learn more about interactive tables.';\n",
              "          element.innerHTML = '';\n",
              "          dataTable['output_type'] = 'display_data';\n",
              "          await google.colab.output.renderOutput(dataTable, element);\n",
              "          const docLink = document.createElement('div');\n",
              "          docLink.innerHTML = docLinkHtml;\n",
              "          element.appendChild(docLink);\n",
              "        }\n",
              "      </script>\n",
              "    </div>\n",
              "  </div>\n",
              "  "
            ]
          },
          "metadata": {},
          "execution_count": 7
        }
      ],
      "source": [
        "data.head()"
      ]
    },
    {
      "cell_type": "code",
      "execution_count": null,
      "metadata": {
        "id": "gBlVZp6Pn14r"
      },
      "outputs": [],
      "source": [
        "#Spliting into features and result\n",
        "X=data[[\"Age\",\"HeartBeat\",\"Systolic\",\"Diastolic\",\"Sugar\"]]\n",
        "y=data['Alert']"
      ]
    },
    {
      "cell_type": "code",
      "execution_count": null,
      "metadata": {
        "id": "73BE0Rhunj2f"
      },
      "outputs": [],
      "source": [
        "#Spliting the dataset into testing and training data set\n",
        "from sklearn.model_selection import train_test_split\n",
        "X_train,X_test,y_train,y_test = train_test_split(X,y,test_size = 0.2, random_state = 30)"
      ]
    },
    {
      "cell_type": "markdown",
      "source": [
        "### **KNN**"
      ],
      "metadata": {
        "id": "O_vzVixUsJqk"
      }
    },
    {
      "cell_type": "code",
      "execution_count": null,
      "metadata": {
        "id": "ZG5zXtN9kT8C"
      },
      "outputs": [],
      "source": [
        "from sklearn.model_selection import GridSearchCV\n",
        "from sklearn.neighbors import KNeighborsClassifier\n",
        "import numpy as np"
      ]
    },
    {
      "cell_type": "code",
      "execution_count": null,
      "metadata": {
        "colab": {
          "base_uri": "https://localhost:8080/"
        },
        "id": "UjTLnE_f7aOC",
        "outputId": "9694f5b2-e66d-451f-dcb8-9c0165d970bf"
      },
      "outputs": [
        {
          "output_type": "stream",
          "name": "stdout",
          "text": [
            "Fitting 3 folds for each of 594 candidates, totalling 1782 fits\n"
          ]
        }
      ],
      "source": [
        "grid_params = { 'n_neighbors' : np.arange(1,100),\n",
        "               'weights' : ['uniform','distance'],\n",
        "               'metric' : ['minkowski','euclidean','manhattan']}\n",
        "#Grid Search will evaluate the model 99(1-100) x 2(weights) x 3 (metric) x 3(folds) = 1782 times with different hyperparameters.\n",
        "knn=KNeighborsClassifier()\n",
        "gs = GridSearchCV(knn, grid_params, verbose = 1, cv=3, n_jobs = -1)\n",
        "# fit the model on our train set\n",
        "g_res = gs.fit(X_train, y_train)"
      ]
    },
    {
      "cell_type": "markdown",
      "source": [
        "We will use three hyperparamters- n-neighbors, weights and metric.\n",
        "\n",
        "n_neighbors: Decide the best k based on the values we have computed earlier.\n",
        "\n",
        "weights: Check whether adding weights to the data points is beneficial to the model or not. 'uniform' assigns no weight, while 'distance' weighs points by the inverse of their distances meaning nearer points will have more weight than the farther points.\n",
        "\n",
        "metric: The distance metric to be used will calculating the similarity."
      ],
      "metadata": {
        "id": "ygJVCs4VH5GH"
      }
    },
    {
      "cell_type": "code",
      "execution_count": null,
      "metadata": {
        "colab": {
          "base_uri": "https://localhost:8080/"
        },
        "id": "cta-Efh38XVv",
        "outputId": "d30d69b7-450f-4681-e78b-01b82a171e8b"
      },
      "outputs": [
        {
          "output_type": "execute_result",
          "data": {
            "text/plain": [
              "0.9949480396228464"
            ]
          },
          "metadata": {},
          "execution_count": 14
        }
      ],
      "source": [
        "# find the best score.......Mean cross-validated score of the best_estimator\n",
        "g_res.best_score_"
      ]
    },
    {
      "cell_type": "code",
      "execution_count": null,
      "metadata": {
        "colab": {
          "base_uri": "https://localhost:8080/"
        },
        "id": "5KrXAhhe8dgh",
        "outputId": "cc9fc6d4-7160-44a9-f713-bb6c737435d5"
      },
      "outputs": [
        {
          "output_type": "execute_result",
          "data": {
            "text/plain": [
              "{'metric': 'manhattan', 'n_neighbors': 5, 'weights': 'uniform'}"
            ]
          },
          "metadata": {},
          "execution_count": 15
        }
      ],
      "source": [
        "# get the hyperparameters with the best score\n",
        "g_res.best_params_"
      ]
    },
    {
      "cell_type": "code",
      "source": [
        "# After hyperparameter tuning and model training\n",
        "\n",
        "# Predict on the test data\n",
        "y_pred = g_res.best_estimator_.predict(X_test)\n",
        "\n",
        "# Evaluate the model performance on the test data\n",
        "from sklearn.metrics import accuracy_score, precision_score, recall_score, f1_score\n",
        "\n",
        "accuracy = accuracy_score(y_test, y_pred)  #how close a measurement is to the true or accepted value\n",
        "precision = precision_score(y_test, y_pred)  #how close measurements of the same item are to each other\n",
        "recall = recall_score(y_test, y_pred)  #completeness of positive predictions\n",
        "f1 = f1_score(y_test, y_pred)  #Precision + recall\n",
        "\n",
        "print(\"Accuracy:\", accuracy)\n",
        "print(\"Precision:\", precision)\n",
        "print(\"Recall:\", recall)\n",
        "print(\"F1 score:\", f1)"
      ],
      "metadata": {
        "colab": {
          "base_uri": "https://localhost:8080/"
        },
        "id": "59lL46rBoSxd",
        "outputId": "bb16d7dc-06a4-4ae0-8763-c24a908e8366"
      },
      "execution_count": null,
      "outputs": [
        {
          "output_type": "stream",
          "name": "stdout",
          "text": [
            "Accuracy: 0.9950606196677144\n",
            "Precision: 0.9968966340415374\n",
            "Recall: 0.9978494623655914\n",
            "F1 score: 0.9973728206352998\n"
          ]
        }
      ]
    },
    {
      "cell_type": "markdown",
      "source": [
        "### **LOGISTIC REGRESSION**"
      ],
      "metadata": {
        "id": "iPF5HPoOsShO"
      }
    },
    {
      "cell_type": "code",
      "execution_count": null,
      "metadata": {
        "colab": {
          "base_uri": "https://localhost:8080/"
        },
        "id": "lXAexQ_yN4z3",
        "outputId": "19e12ee7-994d-441a-8bb5-ca802f20b1d1"
      },
      "outputs": [
        {
          "output_type": "stream",
          "name": "stdout",
          "text": [
            "Fitting 3 folds for each of 14 candidates, totalling 42 fits\n"
          ]
        }
      ],
      "source": [
        "from sklearn.linear_model import LogisticRegression\n",
        "grid_params = { 'penalty' : ['l1'],\n",
        "                'solver': ['liblinear','saga'],\n",
        "               'C': [0.001, 0.01, 0.1, 1, 10, 100, 1000]}\n",
        "\n",
        "log=LogisticRegression()\n",
        "g_l1=GridSearchCV(log,grid_params,verbose=1,cv=3,n_jobs=-1)\n",
        "g_l1_res=g_l1.fit(X_train, y_train)\n"
      ]
    },
    {
      "cell_type": "code",
      "execution_count": null,
      "metadata": {
        "colab": {
          "base_uri": "https://localhost:8080/"
        },
        "id": "AvOpjL6YVcll",
        "outputId": "c2207b26-cf78-433b-ee1a-35472d6b4fe7"
      },
      "outputs": [
        {
          "output_type": "execute_result",
          "data": {
            "text/plain": [
              "0.9630086750947421"
            ]
          },
          "metadata": {},
          "execution_count": 17
        }
      ],
      "source": [
        "g_l1_res.best_score_"
      ]
    },
    {
      "cell_type": "code",
      "execution_count": null,
      "metadata": {
        "colab": {
          "base_uri": "https://localhost:8080/"
        },
        "id": "4qbNIDxDViVx",
        "outputId": "86417d66-cc4b-4988-bb68-743f72cc4bb7"
      },
      "outputs": [
        {
          "output_type": "execute_result",
          "data": {
            "text/plain": [
              "{'C': 1000, 'penalty': 'l1', 'solver': 'liblinear'}"
            ]
          },
          "metadata": {},
          "execution_count": 18
        }
      ],
      "source": [
        "g_l1_res.best_params_"
      ]
    },
    {
      "cell_type": "code",
      "source": [
        "# After hyperparameter tuning and model training\n",
        "\n",
        "# Predict on the test data\n",
        "y_pred = g_l1_res.best_estimator_.predict(X_test)\n",
        "\n",
        "# Evaluate the model performance on the test data\n",
        "from sklearn.metrics import accuracy_score, precision_score, recall_score, f1_score\n",
        "\n",
        "accuracy = accuracy_score(y_test, y_pred)\n",
        "precision = precision_score(y_test, y_pred)\n",
        "recall = recall_score(y_test, y_pred)\n",
        "f1 = f1_score(y_test, y_pred)\n",
        "\n",
        "print(\"Accuracy:\", accuracy)\n",
        "print(\"Precision:\", precision)\n",
        "print(\"Recall:\", recall)\n",
        "print(\"F1 score:\", f1)"
      ],
      "metadata": {
        "colab": {
          "base_uri": "https://localhost:8080/"
        },
        "id": "Fpdy60qsoifF",
        "outputId": "a5618d83-b472-431d-a29f-2a5f61f165a0"
      },
      "execution_count": null,
      "outputs": [
        {
          "output_type": "stream",
          "name": "stdout",
          "text": [
            "Accuracy: 0.958688819039066\n",
            "Precision: 0.9708166627441751\n",
            "Recall: 0.985663082437276\n",
            "F1 score: 0.9781835428029405\n"
          ]
        }
      ]
    },
    {
      "cell_type": "code",
      "execution_count": null,
      "metadata": {
        "colab": {
          "base_uri": "https://localhost:8080/"
        },
        "id": "j_wQplstW0pv",
        "outputId": "abf2d9bc-294a-4143-fddc-38fc123ee823"
      },
      "outputs": [
        {
          "output_type": "stream",
          "name": "stdout",
          "text": [
            "Fitting 3 folds for each of 42 candidates, totalling 126 fits\n"
          ]
        }
      ],
      "source": [
        "from sklearn.linear_model import LogisticRegression\n",
        "grid_params = { 'penalty' : ['l2'],\n",
        "                'solver': ['liblinear','saga','lbfgs','newton-cg','newton-cholesky','sag'],\n",
        "               'C': [0.001, 0.01, 0.1, 1, 10, 100, 1000]}\n",
        "\n",
        "log=LogisticRegression()\n",
        "g_l2=GridSearchCV(log,grid_params,verbose=1,cv=3,n_jobs=-1)\n",
        "g_l2_res=g_l2.fit(X_train, y_train)\n"
      ]
    },
    {
      "cell_type": "code",
      "execution_count": null,
      "metadata": {
        "colab": {
          "base_uri": "https://localhost:8080/"
        },
        "id": "4rSFWk0vXPM2",
        "outputId": "925d7ed2-4629-4ddf-ba3f-e65180be97f1"
      },
      "outputs": [
        {
          "output_type": "execute_result",
          "data": {
            "text/plain": [
              "0.9632331986853432"
            ]
          },
          "metadata": {},
          "execution_count": 21
        }
      ],
      "source": [
        "g_l2_res.best_score_"
      ]
    },
    {
      "cell_type": "code",
      "execution_count": null,
      "metadata": {
        "colab": {
          "base_uri": "https://localhost:8080/"
        },
        "id": "H2YOVu3QXSfW",
        "outputId": "fc8c5b1a-35ce-4601-e259-0b684585a6a3"
      },
      "outputs": [
        {
          "output_type": "execute_result",
          "data": {
            "text/plain": [
              "{'C': 1, 'penalty': 'l2', 'solver': 'lbfgs'}"
            ]
          },
          "metadata": {},
          "execution_count": 22
        }
      ],
      "source": [
        "g_l2_res.best_params_"
      ]
    },
    {
      "cell_type": "code",
      "source": [
        "# After hyperparameter tuning and model training\n",
        "\n",
        "# Predict on the test data\n",
        "y_pred = g_l2_res.best_estimator_.predict(X_test)\n",
        "\n",
        "# Evaluate the model performance on the test data\n",
        "from sklearn.metrics import accuracy_score, precision_score, recall_score, f1_score\n",
        "\n",
        "accuracy = accuracy_score(y_test, y_pred)\n",
        "precision = precision_score(y_test, y_pred)\n",
        "recall = recall_score(y_test, y_pred)\n",
        "f1 = f1_score(y_test, y_pred)\n",
        "\n",
        "print(\"Accuracy:\", accuracy)\n",
        "print(\"Precision:\", precision)\n",
        "print(\"Recall:\", recall)\n",
        "print(\"F1 score:\", f1)"
      ],
      "metadata": {
        "colab": {
          "base_uri": "https://localhost:8080/"
        },
        "id": "7g_L2kGppFlu",
        "outputId": "8494ef2d-28c3-4aad-c44a-d8a18befffbd"
      },
      "execution_count": null,
      "outputs": [
        {
          "output_type": "stream",
          "name": "stdout",
          "text": [
            "Accuracy: 0.9591378536147284\n",
            "Precision: 0.9712738403578997\n",
            "Recall: 0.985663082437276\n",
            "F1 score: 0.9784155597722959\n"
          ]
        }
      ]
    },
    {
      "cell_type": "code",
      "execution_count": null,
      "metadata": {
        "colab": {
          "base_uri": "https://localhost:8080/"
        },
        "id": "Ww3E8uTWXYJp",
        "outputId": "8dfa7e03-bd1b-4583-8184-7932cd0cbc73"
      },
      "outputs": [
        {
          "output_type": "stream",
          "name": "stdout",
          "text": [
            "Fitting 3 folds for each of 63 candidates, totalling 189 fits\n"
          ]
        },
        {
          "output_type": "stream",
          "name": "stderr",
          "text": [
            "/usr/local/lib/python3.9/dist-packages/sklearn/linear_model/_sag.py:350: ConvergenceWarning: The max_iter was reached which means the coef_ did not converge\n",
            "  warnings.warn(\n"
          ]
        }
      ],
      "source": [
        "#l1_ratiofloat, default=None\n",
        "#The Elastic-Net mixing parameter, with 0 <= l1_ratio <= 1. Only used if penalty='elasticnet'.\n",
        "#Setting l1_ratio=0 is equivalent to using penalty='l2', while setting l1_ratio=1 is equivalent to using penalty='l1'.\n",
        "# For 0 < l1_ratio <1, the penalty is a combination of L1 and L2.\n",
        "\n",
        "from sklearn.linear_model import LogisticRegression\n",
        "grid_params = { 'penalty' : ['elasticnet'],\n",
        "                'solver': ['saga'],\n",
        "               'l1_ratio':np.arange(0.1,1,.1),\n",
        "               'C': [0.001, 0.01, 0.1, 1, 10, 100, 1000]}\n",
        "\n",
        "log=LogisticRegression()\n",
        "g_el=GridSearchCV(log,grid_params,verbose=1, cv=3 ,n_jobs=-1,error_score='raise')\n",
        "g_el_res=g_el.fit(X_train, y_train)"
      ]
    },
    {
      "cell_type": "code",
      "execution_count": null,
      "metadata": {
        "colab": {
          "base_uri": "https://localhost:8080/"
        },
        "id": "eMg5kyeOe_pE",
        "outputId": "76219972-2d3c-4ba7-a538-402239f12ba8"
      },
      "outputs": [
        {
          "output_type": "execute_result",
          "data": {
            "text/plain": [
              "0.9361773404032272"
            ]
          },
          "metadata": {},
          "execution_count": 25
        }
      ],
      "source": [
        "g_el_res.best_score_"
      ]
    },
    {
      "cell_type": "code",
      "execution_count": null,
      "metadata": {
        "colab": {
          "base_uri": "https://localhost:8080/"
        },
        "id": "IP3Vd8yzffa6",
        "outputId": "ea8258f0-f0ad-4e3a-fc54-6e167cef2443"
      },
      "outputs": [
        {
          "output_type": "execute_result",
          "data": {
            "text/plain": [
              "{'C': 0.001, 'l1_ratio': 0.9, 'penalty': 'elasticnet', 'solver': 'saga'}"
            ]
          },
          "metadata": {},
          "execution_count": 26
        }
      ],
      "source": [
        "g_el_res.best_params_"
      ]
    },
    {
      "cell_type": "code",
      "source": [
        "# After hyperparameter tuning and model training\n",
        "\n",
        "# Predict on the test data\n",
        "y_pred = g_el_res.best_estimator_.predict(X_test)\n",
        "\n",
        "# Evaluate the model performance on the test data\n",
        "from sklearn.metrics import accuracy_score, precision_score, recall_score, f1_score\n",
        "\n",
        "accuracy = accuracy_score(y_test, y_pred)\n",
        "precision = precision_score(y_test, y_pred)\n",
        "recall = recall_score(y_test, y_pred)\n",
        "f1 = f1_score(y_test, y_pred)\n",
        "\n",
        "print(\"Accuracy:\", accuracy)\n",
        "print(\"Precision:\", precision)\n",
        "print(\"Recall:\", recall)\n",
        "print(\"F1 score:\", f1)"
      ],
      "metadata": {
        "colab": {
          "base_uri": "https://localhost:8080/"
        },
        "id": "JhgjETkhpnjZ",
        "outputId": "e0208bbd-6a9b-453b-fb5a-2f2e64755626"
      },
      "execution_count": null,
      "outputs": [
        {
          "output_type": "stream",
          "name": "stdout",
          "text": [
            "Accuracy: 0.9391558149977548\n",
            "Precision: 0.9407657657657658\n",
            "Recall: 0.9980884109916368\n",
            "F1 score: 0.9685797101449276\n"
          ]
        }
      ]
    },
    {
      "cell_type": "markdown",
      "source": [
        "### **DECISION TREE**"
      ],
      "metadata": {
        "id": "DJcqKVsIs1E9"
      }
    },
    {
      "cell_type": "code",
      "execution_count": null,
      "metadata": {
        "colab": {
          "base_uri": "https://localhost:8080/"
        },
        "id": "kA-p7s4VjNQC",
        "outputId": "156c29a0-8b76-4b70-dbd9-9d7814507495"
      },
      "outputs": [
        {
          "output_type": "stream",
          "name": "stdout",
          "text": [
            "Fitting 3 folds for each of 2500 candidates, totalling 7500 fits\n"
          ]
        }
      ],
      "source": [
        "# from pandas.core.arrays.datetimes import DT64NS_DTYPE\n",
        "from sklearn.tree import DecisionTreeClassifier\n",
        "from sklearn.model_selection import GridSearchCV\n",
        "# from sklearn.tree import plot_tree\n",
        "# import matplotlib.pyplot as plt\n",
        "\n",
        "\n",
        "dt= DecisionTreeClassifier(random_state=30)\n",
        "\n",
        "param_grid = {\n",
        "    'criterion': ['gini', 'entropy'],\n",
        "    'splitter': ['best', 'random'],\n",
        "    'max_depth': [2, 4, 6, 8, 10],\n",
        "    'min_samples_split': [2, 4, 6, 8, 10],\n",
        "    'min_samples_leaf': [1, 2, 3, 4, 5],\n",
        "    'max_leaf_nodes': [None, 5, 10, 15, 20],\n",
        "}\n",
        "\n",
        "g_dt = GridSearchCV(dt,param_grid, verbose=1, cv=3, n_jobs=-1)\n",
        "g_dt_res = g_dt.fit(X_train, y_train)\n",
        "# plt.figure(figsize=(20,10))\n",
        "# plot_tree(gd)\n",
        "# plt.show()"
      ]
    },
    {
      "cell_type": "code",
      "execution_count": null,
      "metadata": {
        "colab": {
          "base_uri": "https://localhost:8080/"
        },
        "id": "Ze5WQe8NpuiF",
        "outputId": "a73beeb9-b3dc-47d9-9278-1733b0604a42"
      },
      "outputs": [
        {
          "output_type": "execute_result",
          "data": {
            "text/plain": [
              "0.9986528395523268"
            ]
          },
          "metadata": {},
          "execution_count": 29
        }
      ],
      "source": [
        "g_dt_res.best_score_"
      ]
    },
    {
      "cell_type": "code",
      "execution_count": null,
      "metadata": {
        "colab": {
          "base_uri": "https://localhost:8080/"
        },
        "id": "F_qwwvKiqEli",
        "outputId": "dab446d7-61d8-4e7a-e27b-bc6f65ed4ef2"
      },
      "outputs": [
        {
          "output_type": "execute_result",
          "data": {
            "text/plain": [
              "{'criterion': 'entropy',\n",
              " 'max_depth': 8,\n",
              " 'max_leaf_nodes': None,\n",
              " 'min_samples_leaf': 1,\n",
              " 'min_samples_split': 2,\n",
              " 'splitter': 'random'}"
            ]
          },
          "metadata": {},
          "execution_count": 30
        }
      ],
      "source": [
        "g_dt_res.best_params_"
      ]
    },
    {
      "cell_type": "code",
      "execution_count": null,
      "metadata": {
        "colab": {
          "base_uri": "https://localhost:8080/"
        },
        "id": "jTXrU0G3rMoh",
        "outputId": "80017024-b28d-497f-acd4-a72b1a32a9f7"
      },
      "outputs": [
        {
          "output_type": "stream",
          "name": "stdout",
          "text": [
            "Accuracy: 0.9975303098338572\n",
            "Precision: 0.9985666507405638\n",
            "Recall: 0.998805256869773\n",
            "F1 score: 0.9986859395532194\n"
          ]
        }
      ],
      "source": [
        "# After hyperparameter tuning and model training\n",
        "\n",
        "# Predict on the test data\n",
        "y_pred = g_dt_res.best_estimator_.predict(X_test)\n",
        "\n",
        "# Evaluate the model performance on the test data\n",
        "from sklearn.metrics import accuracy_score, precision_score, recall_score, f1_score\n",
        "\n",
        "accuracy = accuracy_score(y_test, y_pred)\n",
        "precision = precision_score(y_test, y_pred)\n",
        "recall = recall_score(y_test, y_pred)\n",
        "f1 = f1_score(y_test, y_pred)\n",
        "\n",
        "print(\"Accuracy:\", accuracy)\n",
        "print(\"Precision:\", precision)\n",
        "print(\"Recall:\", recall)\n",
        "print(\"F1 score:\", f1)\n"
      ]
    },
    {
      "cell_type": "code",
      "execution_count": null,
      "metadata": {
        "colab": {
          "base_uri": "https://localhost:8080/"
        },
        "id": "2LTd_IWKsJy2",
        "outputId": "72606d48-984f-4b3d-f785-e61c3edeb941"
      },
      "outputs": [
        {
          "output_type": "stream",
          "name": "stdout",
          "text": [
            "Confusion matrix:\n",
            "[[ 263    6]\n",
            " [   5 4180]]\n"
          ]
        }
      ],
      "source": [
        "from sklearn.metrics import confusion_matrix\n",
        "\n",
        "# After predicting on the test data\n",
        "cm = confusion_matrix(y_test, y_pred)\n",
        "\n",
        "print(\"Confusion matrix:\")\n",
        "print(cm)\n"
      ]
    },
    {
      "cell_type": "markdown",
      "source": [
        "### **RANDOM FOREST**"
      ],
      "metadata": {
        "id": "AP2QYt05tL93"
      }
    },
    {
      "cell_type": "code",
      "execution_count": null,
      "metadata": {
        "id": "8TiBcAS8uXNU",
        "colab": {
          "base_uri": "https://localhost:8080/"
        },
        "outputId": "ace7cb26-56a7-4280-ee4d-f67f488eee19"
      },
      "outputs": [
        {
          "output_type": "stream",
          "name": "stdout",
          "text": [
            "Fitting 3 folds for each of 450 candidates, totalling 1350 fits\n"
          ]
        }
      ],
      "source": [
        "from sklearn.ensemble import RandomForestClassifier\n",
        "from sklearn.model_selection import GridSearchCV\n",
        "\n",
        "\n",
        "param_grid = {\n",
        "    'criterion': ['gini', 'entropy'],\n",
        "    'n_estimators':[50,100,200],\n",
        "    'max_depth': [6, 8, 10],\n",
        "    'min_samples_split': [2, 4, 6, 8, 10],\n",
        "    'min_samples_leaf': [1, 2, 3, 4, 5],\n",
        "    #'max_leaf_nodes': [None, 5, 10, 15, 20],\n",
        "}\n",
        "\n",
        "rf=RandomForestClassifier()\n",
        "gr = GridSearchCV(rf,param_grid, verbose=1, cv=3, n_jobs=-1)\n",
        "gr_res = gr.fit(X_train, y_train)"
      ]
    },
    {
      "cell_type": "code",
      "execution_count": null,
      "metadata": {
        "id": "rlKu2n64K3FU",
        "colab": {
          "base_uri": "https://localhost:8080/"
        },
        "outputId": "11952433-7c40-4384-d752-c2e441c93a5a"
      },
      "outputs": [
        {
          "output_type": "execute_result",
          "data": {
            "text/plain": [
              "0.998596694476627"
            ]
          },
          "metadata": {},
          "execution_count": 11
        }
      ],
      "source": [
        "gr_res.best_score_"
      ]
    },
    {
      "cell_type": "code",
      "source": [
        "gr_res.best_params_"
      ],
      "metadata": {
        "colab": {
          "base_uri": "https://localhost:8080/"
        },
        "id": "_qHQw6Jemj2r",
        "outputId": "3328eeaf-3c9c-4fcf-b131-2515445221bf"
      },
      "execution_count": null,
      "outputs": [
        {
          "output_type": "execute_result",
          "data": {
            "text/plain": [
              "{'criterion': 'gini',\n",
              " 'max_depth': 8,\n",
              " 'min_samples_leaf': 1,\n",
              " 'min_samples_split': 6,\n",
              " 'n_estimators': 100}"
            ]
          },
          "metadata": {},
          "execution_count": 12
        }
      ]
    },
    {
      "cell_type": "code",
      "source": [
        "# After hyperparameter tuning and model training\n",
        "\n",
        "# Predict on the test data\n",
        "y_pred = gr_res.best_estimator_.predict(X_test)\n",
        "\n",
        "# Evaluate the model performance on the test data\n",
        "from sklearn.metrics import accuracy_score, precision_score, recall_score, f1_score\n",
        "\n",
        "accuracy = accuracy_score(y_test, y_pred)\n",
        "precision = precision_score(y_test, y_pred)\n",
        "recall = recall_score(y_test, y_pred)\n",
        "f1 = f1_score(y_test, y_pred)\n",
        "\n",
        "print(\"Accuracy:\", accuracy)\n",
        "print(\"Precision:\", precision)\n",
        "print(\"Recall:\", recall)\n",
        "print(\"F1 score:\", f1)\n"
      ],
      "metadata": {
        "colab": {
          "base_uri": "https://localhost:8080/"
        },
        "id": "Jy5I-WYommLG",
        "outputId": "b2e44fb1-6e51-45df-f71d-b166d528687a"
      },
      "execution_count": null,
      "outputs": [
        {
          "output_type": "stream",
          "name": "stdout",
          "text": [
            "Accuracy: 0.9975303098338572\n",
            "Precision: 0.9983285577841452\n",
            "Recall: 0.9990442054958184\n",
            "F1 score: 0.9986862534336558\n"
          ]
        }
      ]
    }
  ],
  "metadata": {
    "colab": {
      "provenance": [],
      "include_colab_link": true
    },
    "gpuClass": "standard",
    "kernelspec": {
      "display_name": "Python 3",
      "name": "python3"
    },
    "language_info": {
      "name": "python"
    }
  },
  "nbformat": 4,
  "nbformat_minor": 0
}